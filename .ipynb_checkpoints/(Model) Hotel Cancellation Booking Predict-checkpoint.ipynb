{
 "cells": [
  {
   "cell_type": "code",
   "execution_count": 326,
   "metadata": {},
   "outputs": [],
   "source": [
    "import numpy as np\n",
    "import pandas as pd\n",
    "import matplotlib.pyplot as plt\n",
    "import seaborn as sns\n",
    "from sklearn.model_selection import train_test_split, RandomizedSearchCV, cross_val_score, GridSearchCV\n",
    "from sklearn.metrics import classification_report, roc_auc_score, auc, roc_curve, confusion_matrix, accuracy_score, precision_score, recall_score\n",
    "from sklearn.linear_model import LogisticRegression\n",
    "from sklearn.neighbors import KNeighborsClassifier\n",
    "from sklearn.ensemble import RandomForestClassifier, GradientBoostingClassifier, ExtraTreesClassifier, AdaBoostClassifier\n",
    "from xgboost import XGBClassifier\n",
    "from imblearn.over_sampling import SMOTE, RandomOverSampler\n",
    "import joblib\n",
    "from sklearn.tree import DecisionTreeClassifier\n",
    "\n",
    "import warnings\n",
    "warnings.filterwarnings(\"ignore\")"
   ]
  },
  {
   "cell_type": "code",
   "execution_count": 2,
   "metadata": {
    "scrolled": false
   },
   "outputs": [],
   "source": [
    "df = pd.read_csv('cln_hotel_bookings.csv')\n",
    "df = df.drop('Unnamed: 0', axis = 1)"
   ]
  },
  {
   "cell_type": "code",
   "execution_count": 3,
   "metadata": {
    "scrolled": true
   },
   "outputs": [
    {
     "data": {
      "text/html": [
       "<div>\n",
       "<style scoped>\n",
       "    .dataframe tbody tr th:only-of-type {\n",
       "        vertical-align: middle;\n",
       "    }\n",
       "\n",
       "    .dataframe tbody tr th {\n",
       "        vertical-align: top;\n",
       "    }\n",
       "\n",
       "    .dataframe thead th {\n",
       "        text-align: right;\n",
       "    }\n",
       "</style>\n",
       "<table border=\"1\" class=\"dataframe\">\n",
       "  <thead>\n",
       "    <tr style=\"text-align: right;\">\n",
       "      <th></th>\n",
       "      <th>hotel</th>\n",
       "      <th>lead_time</th>\n",
       "      <th>arrival_date_year</th>\n",
       "      <th>arrival_date_month</th>\n",
       "      <th>arrival_date_week_number</th>\n",
       "      <th>arrival_date_day_of_month</th>\n",
       "      <th>stays_in_weekend_nights</th>\n",
       "      <th>stays_in_week_nights</th>\n",
       "      <th>adults</th>\n",
       "      <th>children</th>\n",
       "      <th>...</th>\n",
       "      <th>booking_changes</th>\n",
       "      <th>deposit_type</th>\n",
       "      <th>agent</th>\n",
       "      <th>company</th>\n",
       "      <th>days_in_waiting_list</th>\n",
       "      <th>customer_type</th>\n",
       "      <th>adr</th>\n",
       "      <th>required_car_parking_spaces</th>\n",
       "      <th>total_of_special_requests</th>\n",
       "      <th>is_canceled</th>\n",
       "    </tr>\n",
       "  </thead>\n",
       "  <tbody>\n",
       "    <tr>\n",
       "      <td>0</td>\n",
       "      <td>1.0</td>\n",
       "      <td>-0.447552</td>\n",
       "      <td>-1.0</td>\n",
       "      <td>-0.166667</td>\n",
       "      <td>0.0</td>\n",
       "      <td>-1.0</td>\n",
       "      <td>-0.5</td>\n",
       "      <td>-0.5</td>\n",
       "      <td>-1.0</td>\n",
       "      <td>0.0</td>\n",
       "      <td>...</td>\n",
       "      <td>0.0</td>\n",
       "      <td>0.0</td>\n",
       "      <td>-0.061224</td>\n",
       "      <td>0.0</td>\n",
       "      <td>0.0</td>\n",
       "      <td>0.0</td>\n",
       "      <td>-0.363636</td>\n",
       "      <td>0.0</td>\n",
       "      <td>0.0</td>\n",
       "      <td>0</td>\n",
       "    </tr>\n",
       "    <tr>\n",
       "      <td>1</td>\n",
       "      <td>1.0</td>\n",
       "      <td>-0.405594</td>\n",
       "      <td>-1.0</td>\n",
       "      <td>-0.166667</td>\n",
       "      <td>0.0</td>\n",
       "      <td>-1.0</td>\n",
       "      <td>-0.5</td>\n",
       "      <td>-0.5</td>\n",
       "      <td>-1.0</td>\n",
       "      <td>0.0</td>\n",
       "      <td>...</td>\n",
       "      <td>0.0</td>\n",
       "      <td>0.0</td>\n",
       "      <td>2.006803</td>\n",
       "      <td>0.0</td>\n",
       "      <td>0.0</td>\n",
       "      <td>0.0</td>\n",
       "      <td>-0.363636</td>\n",
       "      <td>0.0</td>\n",
       "      <td>0.0</td>\n",
       "      <td>0</td>\n",
       "    </tr>\n",
       "    <tr>\n",
       "      <td>2</td>\n",
       "      <td>1.0</td>\n",
       "      <td>-0.398601</td>\n",
       "      <td>-1.0</td>\n",
       "      <td>-0.166667</td>\n",
       "      <td>0.0</td>\n",
       "      <td>-1.0</td>\n",
       "      <td>-0.5</td>\n",
       "      <td>0.0</td>\n",
       "      <td>0.0</td>\n",
       "      <td>0.0</td>\n",
       "      <td>...</td>\n",
       "      <td>0.0</td>\n",
       "      <td>0.0</td>\n",
       "      <td>1.571429</td>\n",
       "      <td>0.0</td>\n",
       "      <td>0.0</td>\n",
       "      <td>0.0</td>\n",
       "      <td>0.054545</td>\n",
       "      <td>0.0</td>\n",
       "      <td>1.0</td>\n",
       "      <td>0</td>\n",
       "    </tr>\n",
       "    <tr>\n",
       "      <td>3</td>\n",
       "      <td>1.0</td>\n",
       "      <td>-0.398601</td>\n",
       "      <td>-1.0</td>\n",
       "      <td>-0.166667</td>\n",
       "      <td>0.0</td>\n",
       "      <td>-1.0</td>\n",
       "      <td>-0.5</td>\n",
       "      <td>0.0</td>\n",
       "      <td>0.0</td>\n",
       "      <td>0.0</td>\n",
       "      <td>...</td>\n",
       "      <td>0.0</td>\n",
       "      <td>0.0</td>\n",
       "      <td>1.571429</td>\n",
       "      <td>0.0</td>\n",
       "      <td>0.0</td>\n",
       "      <td>0.0</td>\n",
       "      <td>0.054545</td>\n",
       "      <td>0.0</td>\n",
       "      <td>1.0</td>\n",
       "      <td>0</td>\n",
       "    </tr>\n",
       "    <tr>\n",
       "      <td>4</td>\n",
       "      <td>1.0</td>\n",
       "      <td>-0.496503</td>\n",
       "      <td>-1.0</td>\n",
       "      <td>-0.166667</td>\n",
       "      <td>0.0</td>\n",
       "      <td>-1.0</td>\n",
       "      <td>-0.5</td>\n",
       "      <td>0.0</td>\n",
       "      <td>0.0</td>\n",
       "      <td>0.0</td>\n",
       "      <td>...</td>\n",
       "      <td>0.0</td>\n",
       "      <td>0.0</td>\n",
       "      <td>-0.061224</td>\n",
       "      <td>0.0</td>\n",
       "      <td>0.0</td>\n",
       "      <td>0.0</td>\n",
       "      <td>0.218182</td>\n",
       "      <td>0.0</td>\n",
       "      <td>0.0</td>\n",
       "      <td>0</td>\n",
       "    </tr>\n",
       "  </tbody>\n",
       "</table>\n",
       "<p>5 rows × 30 columns</p>\n",
       "</div>"
      ],
      "text/plain": [
       "   hotel  lead_time  arrival_date_year  arrival_date_month  \\\n",
       "0    1.0  -0.447552               -1.0           -0.166667   \n",
       "1    1.0  -0.405594               -1.0           -0.166667   \n",
       "2    1.0  -0.398601               -1.0           -0.166667   \n",
       "3    1.0  -0.398601               -1.0           -0.166667   \n",
       "4    1.0  -0.496503               -1.0           -0.166667   \n",
       "\n",
       "   arrival_date_week_number  arrival_date_day_of_month  \\\n",
       "0                       0.0                       -1.0   \n",
       "1                       0.0                       -1.0   \n",
       "2                       0.0                       -1.0   \n",
       "3                       0.0                       -1.0   \n",
       "4                       0.0                       -1.0   \n",
       "\n",
       "   stays_in_weekend_nights  stays_in_week_nights  adults  children  ...  \\\n",
       "0                     -0.5                  -0.5    -1.0       0.0  ...   \n",
       "1                     -0.5                  -0.5    -1.0       0.0  ...   \n",
       "2                     -0.5                   0.0     0.0       0.0  ...   \n",
       "3                     -0.5                   0.0     0.0       0.0  ...   \n",
       "4                     -0.5                   0.0     0.0       0.0  ...   \n",
       "\n",
       "   booking_changes  deposit_type     agent  company  days_in_waiting_list  \\\n",
       "0              0.0           0.0 -0.061224      0.0                   0.0   \n",
       "1              0.0           0.0  2.006803      0.0                   0.0   \n",
       "2              0.0           0.0  1.571429      0.0                   0.0   \n",
       "3              0.0           0.0  1.571429      0.0                   0.0   \n",
       "4              0.0           0.0 -0.061224      0.0                   0.0   \n",
       "\n",
       "   customer_type       adr  required_car_parking_spaces  \\\n",
       "0            0.0 -0.363636                          0.0   \n",
       "1            0.0 -0.363636                          0.0   \n",
       "2            0.0  0.054545                          0.0   \n",
       "3            0.0  0.054545                          0.0   \n",
       "4            0.0  0.218182                          0.0   \n",
       "\n",
       "   total_of_special_requests  is_canceled  \n",
       "0                        0.0            0  \n",
       "1                        0.0            0  \n",
       "2                        1.0            0  \n",
       "3                        1.0            0  \n",
       "4                        0.0            0  \n",
       "\n",
       "[5 rows x 30 columns]"
      ]
     },
     "execution_count": 3,
     "metadata": {},
     "output_type": "execute_result"
    }
   ],
   "source": [
    "df.head()"
   ]
  },
  {
   "cell_type": "code",
   "execution_count": 4,
   "metadata": {},
   "outputs": [
    {
     "name": "stdout",
     "output_type": "stream",
     "text": [
      "<class 'pandas.core.frame.DataFrame'>\n",
      "RangeIndex: 116957 entries, 0 to 116956\n",
      "Data columns (total 30 columns):\n",
      "hotel                             116957 non-null float64\n",
      "lead_time                         116957 non-null float64\n",
      "arrival_date_year                 116957 non-null float64\n",
      "arrival_date_month                116957 non-null float64\n",
      "arrival_date_week_number          116957 non-null float64\n",
      "arrival_date_day_of_month         116957 non-null float64\n",
      "stays_in_weekend_nights           116957 non-null float64\n",
      "stays_in_week_nights              116957 non-null float64\n",
      "adults                            116957 non-null float64\n",
      "children                          116957 non-null float64\n",
      "babies                            116957 non-null float64\n",
      "meal                              116957 non-null float64\n",
      "country                           116957 non-null float64\n",
      "market_segment                    116957 non-null float64\n",
      "distribution_channel              116957 non-null float64\n",
      "is_repeated_guest                 116957 non-null float64\n",
      "previous_cancellations            116957 non-null float64\n",
      "previous_bookings_not_canceled    116957 non-null float64\n",
      "reserved_room_type                116957 non-null float64\n",
      "assigned_room_type                116957 non-null float64\n",
      "booking_changes                   116957 non-null float64\n",
      "deposit_type                      116957 non-null float64\n",
      "agent                             116957 non-null float64\n",
      "company                           116957 non-null float64\n",
      "days_in_waiting_list              116957 non-null float64\n",
      "customer_type                     116957 non-null float64\n",
      "adr                               116957 non-null float64\n",
      "required_car_parking_spaces       116957 non-null float64\n",
      "total_of_special_requests         116957 non-null float64\n",
      "is_canceled                       116957 non-null int64\n",
      "dtypes: float64(29), int64(1)\n",
      "memory usage: 26.8 MB\n"
     ]
    }
   ],
   "source": [
    "df.info()"
   ]
  },
  {
   "cell_type": "markdown",
   "metadata": {},
   "source": [
    "## Feature Selection"
   ]
  },
  {
   "cell_type": "code",
   "execution_count": 5,
   "metadata": {},
   "outputs": [],
   "source": [
    "x_feat = df.drop('is_canceled', axis = 1)\n",
    "y_feat = df['is_canceled']"
   ]
  },
  {
   "cell_type": "code",
   "execution_count": 6,
   "metadata": {
    "scrolled": true
   },
   "outputs": [
    {
     "name": "stdout",
     "output_type": "stream",
     "text": [
      "[0.01252081 0.10359825 0.02796358 0.03091449 0.04662484 0.04808103\n",
      " 0.03097649 0.04267211 0.01671585 0.00854425 0.00142418 0.01571882\n",
      " 0.10721753 0.0321173  0.02521337 0.00518904 0.02375063 0.00158068\n",
      " 0.01569399 0.03026929 0.0198141  0.1287081  0.03852704 0.00371966\n",
      " 0.00217444 0.03150172 0.05833921 0.02269866 0.06773055]\n"
     ]
    },
    {
     "data": {
      "image/png": "[encoded data removed]",
      "text/plain": [
       "<Figure size 432x288 with 1 Axes>"
      ]
     },
     "metadata": {
      "needs_background": "light"
     },
     "output_type": "display_data"
    }
   ],
   "source": [
    "# melakukan feature selection dengan menggunakan Feature Importance\n",
    "\n",
    "model = ExtraTreesClassifier()\n",
    "model.fit(x_feat, y_feat)\n",
    "\n",
    "print(model.feature_importances_)\n",
    "\n",
    "feat_importances = pd.Series(model.feature_importances_, index = x_feat.columns)\n",
    "feat_importances.nlargest(10).plot.barh()\n",
    "plt.show()"
   ]
  },
  {
   "cell_type": "code",
   "execution_count": 7,
   "metadata": {},
   "outputs": [],
   "source": [
    "# Melakukan pemilihan feature berdasarkan feature importance di atas\n",
    "# walaupun feature 'agent' masuk dalam 10 feature importance di atas\n",
    "# tetapi saya tidak memasukan feature tsb , karena tidak relevan\n",
    "# karena fitur tersebut memiliki value ID dari agent dalam melakukan booking (yg sama dengan fitur 'company')\n",
    "# saya berasumsi ketika input pada dashboard semua booking dilakukan secara independen\n",
    "\n",
    "X = df[['country', \n",
    "        'deposit_type', \n",
    "        'lead_time', \n",
    "        'total_of_special_requests', \n",
    "        'adr', \n",
    "        'market_segment', \n",
    "        'arrival_date_day_of_month', \n",
    "        'arrival_date_week_number', \n",
    "        'stays_in_week_nights'\n",
    "       ]]\n",
    "\n",
    "y = df['is_canceled']"
   ]
  },
  {
   "cell_type": "code",
   "execution_count": 8,
   "metadata": {},
   "outputs": [],
   "source": [
    "X_train, X_test, y_train, y_test = train_test_split(X, y, test_size = 0.30, random_state = 101)"
   ]
  },
  {
   "cell_type": "markdown",
   "metadata": {},
   "source": [
    "## Modeling Dengan Langsung Melakukan Hyper Parameter Tuning"
   ]
  },
  {
   "cell_type": "markdown",
   "metadata": {},
   "source": [
    "### Logistic Regression"
   ]
  },
  {
   "cell_type": "code",
   "execution_count": 9,
   "metadata": {},
   "outputs": [],
   "source": [
    "lr_params = {\n",
    "            'C': [0.1, 0.5, 0.9, 1, 2, 5],\n",
    "            'penalty':['l1','l2'],\n",
    "            'random_state':[24,32,56,65]\n",
    "            }\n",
    "\n",
    "params = {\n",
    "        'estimator': LogisticRegression(),\n",
    "        'param_distributions': lr_params,\n",
    "        'cv': 5,\n",
    "        'n_iter': 15,\n",
    "        'n_jobs': -1,\n",
    "        'scoring': 'roc_auc',\n",
    "        }\n",
    "\n",
    "lr_cv = RandomizedSearchCV(**params)"
   ]
  },
  {
   "cell_type": "code",
   "execution_count": 10,
   "metadata": {},
   "outputs": [
    {
     "data": {
      "text/plain": [
       "RandomizedSearchCV(cv=5, error_score='raise-deprecating',\n",
       "                   estimator=LogisticRegression(C=1.0, class_weight=None,\n",
       "                                                dual=False, fit_intercept=True,\n",
       "                                                intercept_scaling=1,\n",
       "                                                l1_ratio=None, max_iter=100,\n",
       "                                                multi_class='warn', n_jobs=None,\n",
       "                                                penalty='l2', random_state=None,\n",
       "                                                solver='warn', tol=0.0001,\n",
       "                                                verbose=0, warm_start=False),\n",
       "                   iid='warn', n_iter=15, n_jobs=-1,\n",
       "                   param_distributions={'C': [0.1, 0.5, 0.9, 1, 2, 5],\n",
       "                                        'penalty': ['l1', 'l2'],\n",
       "                                        'random_state': [24, 32, 56, 65]},\n",
       "                   pre_dispatch='2*n_jobs', random_state=None, refit=True,\n",
       "                   return_train_score=False, scoring='roc_auc', verbose=0)"
      ]
     },
     "execution_count": 10,
     "metadata": {},
     "output_type": "execute_result"
    }
   ],
   "source": [
    "lr_cv.fit(X_train, y_train)"
   ]
  },
  {
   "cell_type": "code",
   "execution_count": 11,
   "metadata": {},
   "outputs": [
    {
     "data": {
      "text/plain": [
       "{'random_state': 24, 'penalty': 'l1', 'C': 5}"
      ]
     },
     "execution_count": 11,
     "metadata": {},
     "output_type": "execute_result"
    }
   ],
   "source": [
    "lr_cv.best_params_\n",
    "# lr_best_param = {'C': 5, 'penalty': 'l1', 'random_state': 24} "
   ]
  },
  {
   "cell_type": "code",
   "execution_count": 12,
   "metadata": {},
   "outputs": [],
   "source": [
    "lr_model = LogisticRegression(**lr_cv.best_params_).fit(X_train, y_train)\n",
    "y_pred_lr = lr_model.predict(X_test)\n",
    "proba_lr = lr_model.predict_proba(X_test)"
   ]
  },
  {
   "cell_type": "code",
   "execution_count": 13,
   "metadata": {},
   "outputs": [
    {
     "data": {
      "text/plain": [
       "0.7622264021887825"
      ]
     },
     "execution_count": 13,
     "metadata": {},
     "output_type": "execute_result"
    }
   ],
   "source": [
    "accuracy_score(y_test, y_pred_lr)"
   ]
  },
  {
   "cell_type": "code",
   "execution_count": 14,
   "metadata": {},
   "outputs": [
    {
     "data": {
      "text/plain": [
       "0.7608012002848347"
      ]
     },
     "execution_count": 14,
     "metadata": {},
     "output_type": "execute_result"
    }
   ],
   "source": [
    "cross_val_score(lr_model, X_test, y_test, cv = 10).mean()"
   ]
  },
  {
   "cell_type": "code",
   "execution_count": 15,
   "metadata": {
    "scrolled": true
   },
   "outputs": [
    {
     "name": "stdout",
     "output_type": "stream",
     "text": [
      "[[20185  1752]\n",
      " [ 6591  6560]]\n",
      "\n",
      "\n",
      "              precision    recall  f1-score   support\n",
      "\n",
      "           0       0.75      0.92      0.83     21937\n",
      "           1       0.79      0.50      0.61     13151\n",
      "\n",
      "    accuracy                           0.76     35088\n",
      "   macro avg       0.77      0.71      0.72     35088\n",
      "weighted avg       0.77      0.76      0.75     35088\n",
      "\n"
     ]
    }
   ],
   "source": [
    "print(confusion_matrix(y_test, y_pred_lr))\n",
    "print('\\n')\n",
    "print(classification_report(y_test, y_pred_lr))"
   ]
  },
  {
   "cell_type": "code",
   "execution_count": 263,
   "metadata": {},
   "outputs": [],
   "source": [
    "def lr_curve():    \n",
    "    fpr_lr, tpr_lr, thres_lr = roc_curve(y_test, proba_lr[:,1])\n",
    "    roc_auc_lr = auc(fpr_lr, tpr_lr)\n",
    "\n",
    "    plt.subplot(151)\n",
    "    plt.title('ROC AUC Logistic Regression')\n",
    "    plt.plot(fpr_lr, tpr_lr, 'blue', label='AUC Logistic Regression = {}'.format(round(roc_auc_lr,4)))\n",
    "    plt.plot([0,1],[0,1], 'r--')\n",
    "    plt.xlim([0,1])\n",
    "    plt.ylim([0,1])\n",
    "    plt.xlabel('False Positive Rate')\n",
    "    plt.ylabel('True Positive Rate')\n",
    "    plt.fill_between(fpr_lr,tpr_lr, 0, facecolor='orange', alpha=1)\n",
    "    plt.legend(loc = 'lower right')"
   ]
  },
  {
   "cell_type": "markdown",
   "metadata": {},
   "source": [
    "### Random Forest Class."
   ]
  },
  {
   "cell_type": "code",
   "execution_count": 17,
   "metadata": {},
   "outputs": [],
   "source": [
    "rf_params = {\n",
    "        'max_depth': [5, 10, 15, 20],\n",
    "        'max_features': [2, 3, 5],\n",
    "        'n_estimators': [100, 500, 1000],\n",
    "        'min_samples_split': [5, 10, 15],\n",
    "        }\n",
    "\n",
    "params = {\n",
    "        'estimator': RandomForestClassifier(),\n",
    "        'param_distributions': rf_params,\n",
    "        'cv': 5,\n",
    "        'n_iter': 15,\n",
    "        'n_jobs': -1,\n",
    "        'scoring': 'roc_auc',\n",
    "        }\n",
    "\n",
    "rf_cv = RandomizedSearchCV(**params)"
   ]
  },
  {
   "cell_type": "code",
   "execution_count": 18,
   "metadata": {},
   "outputs": [
    {
     "data": {
      "text/plain": [
       "RandomizedSearchCV(cv=5, error_score='raise-deprecating',\n",
       "                   estimator=RandomForestClassifier(bootstrap=True,\n",
       "                                                    class_weight=None,\n",
       "                                                    criterion='gini',\n",
       "                                                    max_depth=None,\n",
       "                                                    max_features='auto',\n",
       "                                                    max_leaf_nodes=None,\n",
       "                                                    min_impurity_decrease=0.0,\n",
       "                                                    min_impurity_split=None,\n",
       "                                                    min_samples_leaf=1,\n",
       "                                                    min_samples_split=2,\n",
       "                                                    min_weight_fraction_leaf=0.0,\n",
       "                                                    n_estimators='warn',\n",
       "                                                    n_jobs=None,\n",
       "                                                    oob_score=False,\n",
       "                                                    random_state=None,\n",
       "                                                    verbose=0,\n",
       "                                                    warm_start=False),\n",
       "                   iid='warn', n_iter=15, n_jobs=-1,\n",
       "                   param_distributions={'max_depth': [5, 10, 15, 20],\n",
       "                                        'max_features': [2, 3, 5],\n",
       "                                        'min_samples_split': [5, 10, 15],\n",
       "                                        'n_estimators': [100, 500, 1000]},\n",
       "                   pre_dispatch='2*n_jobs', random_state=None, refit=True,\n",
       "                   return_train_score=False, scoring='roc_auc', verbose=0)"
      ]
     },
     "execution_count": 18,
     "metadata": {},
     "output_type": "execute_result"
    }
   ],
   "source": [
    "rf_cv.fit(X_train, y_train)"
   ]
  },
  {
   "cell_type": "code",
   "execution_count": 20,
   "metadata": {},
   "outputs": [
    {
     "data": {
      "text/plain": [
       "{'n_estimators': 100,\n",
       " 'min_samples_split': 5,\n",
       " 'max_features': 3,\n",
       " 'max_depth': 20}"
      ]
     },
     "execution_count": 20,
     "metadata": {},
     "output_type": "execute_result"
    }
   ],
   "source": [
    "rf_cv.best_params_\n",
    "# rf_best_param = {\n",
    "#                'max_depth': 20,\n",
    "#                'max_features': 3,\n",
    "#                'min_samples_split': 5,\n",
    "#                'n_estimators': 100\n",
    "#                }"
   ]
  },
  {
   "cell_type": "code",
   "execution_count": 21,
   "metadata": {},
   "outputs": [],
   "source": [
    "rf_model = RandomForestClassifier(**rf_cv.best_params_).fit(X_train, y_train)\n",
    "y_pred_rf = rf_model.predict(X_test)\n",
    "proba_rf = rf_model.predict_proba(X_test)"
   ]
  },
  {
   "cell_type": "code",
   "execution_count": 22,
   "metadata": {},
   "outputs": [
    {
     "data": {
      "text/plain": [
       "0.854907660738714"
      ]
     },
     "execution_count": 22,
     "metadata": {},
     "output_type": "execute_result"
    }
   ],
   "source": [
    "accuracy_score(y_test, y_pred_rf)"
   ]
  },
  {
   "cell_type": "code",
   "execution_count": 23,
   "metadata": {},
   "outputs": [
    {
     "data": {
      "text/plain": [
       "0.8415127405500329"
      ]
     },
     "execution_count": 23,
     "metadata": {},
     "output_type": "execute_result"
    }
   ],
   "source": [
    "cross_val_score(rf_model, X_test, y_test, cv = 10).mean()"
   ]
  },
  {
   "cell_type": "code",
   "execution_count": 24,
   "metadata": {},
   "outputs": [
    {
     "name": "stdout",
     "output_type": "stream",
     "text": [
      "[[20112  1825]\n",
      " [ 3266  9885]]\n",
      "\n",
      "\n",
      "              precision    recall  f1-score   support\n",
      "\n",
      "           0       0.86      0.92      0.89     21937\n",
      "           1       0.84      0.75      0.80     13151\n",
      "\n",
      "    accuracy                           0.85     35088\n",
      "   macro avg       0.85      0.83      0.84     35088\n",
      "weighted avg       0.85      0.85      0.85     35088\n",
      "\n"
     ]
    }
   ],
   "source": [
    "print(confusion_matrix(y_test, y_pred_rf))\n",
    "print('\\n')\n",
    "print(classification_report(y_test, y_pred_rf))"
   ]
  },
  {
   "cell_type": "code",
   "execution_count": 155,
   "metadata": {},
   "outputs": [],
   "source": [
    "def rf_curve():    \n",
    "    fpr_rf, tpr_rf, thres_rf = roc_curve(y_test, proba_rf[:,1])\n",
    "    roc_auc_rf = auc(fpr_rf, tpr_rf)\n",
    "\n",
    "    plt.subplot(152)\n",
    "    plt.title('ROC AUC Random Forest')\n",
    "    plt.plot(fpr_rf, tpr_rf, 'blue', label='AUC Rand. Forest = {}'.format(round(roc_auc_rf,4)))\n",
    "    plt.plot([0,1],[0,1], 'r--')\n",
    "    plt.xlim([0,1])\n",
    "    plt.ylim([0,1])\n",
    "    plt.xlabel('False Positive Rate')\n",
    "    plt.ylabel('True Positive Rate')\n",
    "    plt.fill_between(fpr_rf,tpr_rf, 0, facecolor='lightyellow', alpha=1)\n",
    "    plt.legend(loc = 'lower right')"
   ]
  },
  {
   "cell_type": "markdown",
   "metadata": {},
   "source": [
    "### Gradient Boosting"
   ]
  },
  {
   "cell_type": "code",
   "execution_count": 26,
   "metadata": {},
   "outputs": [],
   "source": [
    "gb_parameters = {\n",
    "                'n_estimators': [100, 500, 1000],\n",
    "                'max_depth': [3, 5, 10],\n",
    "                'min_samples_split': [2, 5, 10],\n",
    "                }\n",
    "\n",
    "gb_params = {\n",
    "            'estimator': GradientBoostingClassifier(),\n",
    "            'param_distributions': gb_parameters,\n",
    "            'cv': 5,\n",
    "            'n_iter': 15,\n",
    "            'n_jobs': -1,\n",
    "            'scoring': 'roc_auc',\n",
    "            }\n",
    "\n",
    "gb_cv = RandomizedSearchCV(**gb_params)"
   ]
  },
  {
   "cell_type": "code",
   "execution_count": 27,
   "metadata": {},
   "outputs": [
    {
     "data": {
      "text/plain": [
       "RandomizedSearchCV(cv=5, error_score='raise-deprecating',\n",
       "                   estimator=GradientBoostingClassifier(criterion='friedman_mse',\n",
       "                                                        init=None,\n",
       "                                                        learning_rate=0.1,\n",
       "                                                        loss='deviance',\n",
       "                                                        max_depth=3,\n",
       "                                                        max_features=None,\n",
       "                                                        max_leaf_nodes=None,\n",
       "                                                        min_impurity_decrease=0.0,\n",
       "                                                        min_impurity_split=None,\n",
       "                                                        min_samples_leaf=1,\n",
       "                                                        min_samples_split=2,\n",
       "                                                        min_weight_fraction_leaf=0.0,\n",
       "                                                        n_estimators=100,\n",
       "                                                        n_i...,\n",
       "                                                        presort='auto',\n",
       "                                                        random_state=None,\n",
       "                                                        subsample=1.0,\n",
       "                                                        tol=0.0001,\n",
       "                                                        validation_fraction=0.1,\n",
       "                                                        verbose=0,\n",
       "                                                        warm_start=False),\n",
       "                   iid='warn', n_iter=15, n_jobs=-1,\n",
       "                   param_distributions={'max_depth': [3, 5, 10],\n",
       "                                        'min_samples_split': [2, 5, 10],\n",
       "                                        'n_estimators': [100, 500, 1000]},\n",
       "                   pre_dispatch='2*n_jobs', random_state=None, refit=True,\n",
       "                   return_train_score=False, scoring='roc_auc', verbose=0)"
      ]
     },
     "execution_count": 27,
     "metadata": {},
     "output_type": "execute_result"
    }
   ],
   "source": [
    "gb_cv.fit(X_train, y_train)"
   ]
  },
  {
   "cell_type": "code",
   "execution_count": 28,
   "metadata": {},
   "outputs": [
    {
     "data": {
      "text/plain": [
       "{'n_estimators': 500, 'min_samples_split': 5, 'max_depth': 10}"
      ]
     },
     "execution_count": 28,
     "metadata": {},
     "output_type": "execute_result"
    }
   ],
   "source": [
    "gb_cv.best_params_\n",
    "# gb_best_param = {'max_depth': 10, 'min_samples_split': 5, 'n_estimators': 500}"
   ]
  },
  {
   "cell_type": "code",
   "execution_count": 29,
   "metadata": {},
   "outputs": [],
   "source": [
    "gb_model = GradientBoostingClassifier(**gb_cv.best_params_).fit(X_train, y_train)\n",
    "y_pred_gb = gb_model.predict(X_test)\n",
    "proba_gb = gb_model.predict_proba(X_test)"
   ]
  },
  {
   "cell_type": "code",
   "execution_count": 30,
   "metadata": {},
   "outputs": [
    {
     "data": {
      "text/plain": [
       "0.8617761057911537"
      ]
     },
     "execution_count": 30,
     "metadata": {},
     "output_type": "execute_result"
    }
   ],
   "source": [
    "accuracy_score(y_test, y_pred_gb)"
   ]
  },
  {
   "cell_type": "code",
   "execution_count": 31,
   "metadata": {},
   "outputs": [
    {
     "data": {
      "text/plain": [
       "0.8383489506055929"
      ]
     },
     "execution_count": 31,
     "metadata": {},
     "output_type": "execute_result"
    }
   ],
   "source": [
    "cross_val_score(gb_model, X_test, y_test, cv = 10).mean()"
   ]
  },
  {
   "cell_type": "code",
   "execution_count": 32,
   "metadata": {},
   "outputs": [
    {
     "name": "stdout",
     "output_type": "stream",
     "text": [
      "[[20042  1895]\n",
      " [ 2955 10196]]\n",
      "\n",
      "\n",
      "              precision    recall  f1-score   support\n",
      "\n",
      "           0       0.87      0.91      0.89     21937\n",
      "           1       0.84      0.78      0.81     13151\n",
      "\n",
      "    accuracy                           0.86     35088\n",
      "   macro avg       0.86      0.84      0.85     35088\n",
      "weighted avg       0.86      0.86      0.86     35088\n",
      "\n"
     ]
    }
   ],
   "source": [
    "print(confusion_matrix(y_test, y_pred_gb))\n",
    "print('\\n')\n",
    "print(classification_report(y_test, y_pred_gb))"
   ]
  },
  {
   "cell_type": "code",
   "execution_count": 156,
   "metadata": {},
   "outputs": [],
   "source": [
    "def gb_curve():    \n",
    "    fpr_gb, tpr_gb, thres_gb = roc_curve(y_test, proba_gb[:,1])\n",
    "    roc_auc_gb = auc(fpr_gb, tpr_gb)\n",
    "\n",
    "    plt.subplot(153)\n",
    "    plt.title('ROC AUC Gradient Boosting')\n",
    "    plt.plot(fpr_gb, tpr_gb, 'blue', label='AUC Gradient Boosting = {}'.format(round(roc_auc_gb,4)))\n",
    "    plt.plot([0,1],[0,1], 'r--')\n",
    "    plt.xlim([0,1])\n",
    "    plt.ylim([0,1])\n",
    "    plt.xlabel('False Positive Rate')\n",
    "    plt.ylabel('True Positive Rate')\n",
    "    plt.fill_between(fpr_gb,tpr_gb, 0, facecolor='lightblue', alpha=1)\n",
    "    plt.legend(loc = 'lower right')"
   ]
  },
  {
   "cell_type": "markdown",
   "metadata": {},
   "source": [
    "### KNN"
   ]
  },
  {
   "cell_type": "code",
   "execution_count": 34,
   "metadata": {},
   "outputs": [],
   "source": [
    "knn_parameters = {'n_neighbors': range(1, 11), \n",
    "                  'leaf_size': range(30, 35)}\n",
    "\n",
    "knn_params = {\n",
    "            'estimator': KNeighborsClassifier(),\n",
    "            'param_distributions': knn_parameters,\n",
    "            'cv': 5,\n",
    "            'n_iter': 15,\n",
    "            'n_jobs': -1,\n",
    "            'scoring': 'roc_auc',\n",
    "            }\n",
    "\n",
    "knn_cv = RandomizedSearchCV(**knn_params)"
   ]
  },
  {
   "cell_type": "code",
   "execution_count": 35,
   "metadata": {
    "scrolled": true
   },
   "outputs": [
    {
     "data": {
      "text/plain": [
       "RandomizedSearchCV(cv=5, error_score='raise-deprecating',\n",
       "                   estimator=KNeighborsClassifier(algorithm='auto',\n",
       "                                                  leaf_size=30,\n",
       "                                                  metric='minkowski',\n",
       "                                                  metric_params=None,\n",
       "                                                  n_jobs=None, n_neighbors=5,\n",
       "                                                  p=2, weights='uniform'),\n",
       "                   iid='warn', n_iter=15, n_jobs=-1,\n",
       "                   param_distributions={'leaf_size': range(30, 35),\n",
       "                                        'n_neighbors': range(1, 11)},\n",
       "                   pre_dispatch='2*n_jobs', random_state=None, refit=True,\n",
       "                   return_train_score=False, scoring='roc_auc', verbose=0)"
      ]
     },
     "execution_count": 35,
     "metadata": {},
     "output_type": "execute_result"
    }
   ],
   "source": [
    "knn_cv.fit(X_train, y_train)"
   ]
  },
  {
   "cell_type": "code",
   "execution_count": 36,
   "metadata": {},
   "outputs": [
    {
     "data": {
      "text/plain": [
       "{'n_neighbors': 10, 'leaf_size': 31}"
      ]
     },
     "execution_count": 36,
     "metadata": {},
     "output_type": "execute_result"
    }
   ],
   "source": [
    "knn_cv.best_params_\n",
    "# knn_best_param = {'n_neighbors': 10}"
   ]
  },
  {
   "cell_type": "code",
   "execution_count": 37,
   "metadata": {},
   "outputs": [],
   "source": [
    "knn_model = KNeighborsClassifier(**knn_cv.best_params_).fit(X_train, y_train)\n",
    "y_pred_knn = knn_model.predict(X_test)\n",
    "proba_kn = knn_model.predict_proba(X_test)"
   ]
  },
  {
   "cell_type": "code",
   "execution_count": 38,
   "metadata": {},
   "outputs": [
    {
     "data": {
      "text/plain": [
       "0.8132124943000456"
      ]
     },
     "execution_count": 38,
     "metadata": {},
     "output_type": "execute_result"
    }
   ],
   "source": [
    "accuracy_score(y_test, y_pred_knn)"
   ]
  },
  {
   "cell_type": "code",
   "execution_count": 39,
   "metadata": {},
   "outputs": [
    {
     "data": {
      "text/plain": [
       "0.7983355602293418"
      ]
     },
     "execution_count": 39,
     "metadata": {},
     "output_type": "execute_result"
    }
   ],
   "source": [
    "cross_val_score(knn_model, X_test, y_test, cv = 10).mean()"
   ]
  },
  {
   "cell_type": "code",
   "execution_count": 40,
   "metadata": {},
   "outputs": [
    {
     "name": "stdout",
     "output_type": "stream",
     "text": [
      "[[20118  1819]\n",
      " [ 4735  8416]]\n",
      "\n",
      "\n",
      "              precision    recall  f1-score   support\n",
      "\n",
      "           0       0.81      0.92      0.86     21937\n",
      "           1       0.82      0.64      0.72     13151\n",
      "\n",
      "    accuracy                           0.81     35088\n",
      "   macro avg       0.82      0.78      0.79     35088\n",
      "weighted avg       0.81      0.81      0.81     35088\n",
      "\n"
     ]
    }
   ],
   "source": [
    "print(confusion_matrix(y_test, y_pred_knn))\n",
    "print('\\n')\n",
    "print(classification_report(y_test, y_pred_knn))"
   ]
  },
  {
   "cell_type": "code",
   "execution_count": 157,
   "metadata": {},
   "outputs": [],
   "source": [
    "def knn_curve():    \n",
    "    fpr_kn, tpr_kn, thres_kn = roc_curve(y_test, proba_kn[:,1])\n",
    "    roc_auc_kn = auc(fpr_kn, tpr_kn)\n",
    "\n",
    "    plt.subplot(154)\n",
    "    plt.title('ROC AUC KNN')\n",
    "    plt.plot(fpr_kn, tpr_kn, 'blue', label='AUC KNN = {}'.format(round(roc_auc_kn,4)))\n",
    "    plt.plot([0,1],[0,1], 'r--')\n",
    "    plt.xlim([0,1])\n",
    "    plt.ylim([0,1])\n",
    "    plt.xlabel('False Positive Rate')\n",
    "    plt.ylabel('True Positive Rate')\n",
    "    plt.fill_between(fpr_kn,tpr_kn, 0, facecolor='azure', alpha=1)\n",
    "    plt.legend(loc = 'lower right')"
   ]
  },
  {
   "cell_type": "markdown",
   "metadata": {},
   "source": [
    "## XBG Classifier"
   ]
  },
  {
   "cell_type": "code",
   "execution_count": 54,
   "metadata": {},
   "outputs": [],
   "source": [
    "xgb_parameters = {'n_estimators': [100, 500, 1000],  \n",
    "                  'max_depth': [3, 5, 10]\n",
    "                 }\n",
    "\n",
    "xgb_params = {\n",
    "            'estimator': XGBClassifier(),\n",
    "            'param_distributions': xgb_parameters,\n",
    "            'cv': 5,\n",
    "            'n_iter': 15,\n",
    "            'n_jobs': -1,\n",
    "            'scoring': 'roc_auc',\n",
    "            }\n",
    "\n",
    "xgb_cv = RandomizedSearchCV(**xgb_params)"
   ]
  },
  {
   "cell_type": "code",
   "execution_count": 55,
   "metadata": {
    "scrolled": false
   },
   "outputs": [
    {
     "data": {
      "text/plain": [
       "RandomizedSearchCV(cv=5, error_score='raise-deprecating',\n",
       "                   estimator=XGBClassifier(base_score=None, booster=None,\n",
       "                                           colsample_bylevel=None,\n",
       "                                           colsample_bynode=None,\n",
       "                                           colsample_bytree=None, gamma=None,\n",
       "                                           gpu_id=None, importance_type='gain',\n",
       "                                           interaction_constraints=None,\n",
       "                                           learning_rate=None,\n",
       "                                           max_delta_step=None, max_depth=None,\n",
       "                                           min_child_weight=None, missing=nan,\n",
       "                                           monotone_co...\n",
       "                                           random_state=None, reg_alpha=None,\n",
       "                                           reg_lambda=None,\n",
       "                                           scale_pos_weight=None,\n",
       "                                           subsample=None, tree_method=None,\n",
       "                                           validate_parameters=None,\n",
       "                                           verbosity=None),\n",
       "                   iid='warn', n_iter=15, n_jobs=-1,\n",
       "                   param_distributions={'max_depth': [3, 5, 10],\n",
       "                                        'n_estimators': [100, 500, 1000]},\n",
       "                   pre_dispatch='2*n_jobs', random_state=None, refit=True,\n",
       "                   return_train_score=False, scoring='roc_auc', verbose=0)"
      ]
     },
     "execution_count": 55,
     "metadata": {},
     "output_type": "execute_result"
    }
   ],
   "source": [
    "# xgb_cv.fit(X_train, y_train)"
   ]
  },
  {
   "cell_type": "code",
   "execution_count": 56,
   "metadata": {},
   "outputs": [
    {
     "data": {
      "text/plain": [
       "{'n_estimators': 500, 'max_depth': 10}"
      ]
     },
     "execution_count": 56,
     "metadata": {},
     "output_type": "execute_result"
    }
   ],
   "source": [
    "# xgb_cv.best_params_\n",
    "xgb_cv.best_param = {'n_estimators': 500, 'max_depth': 10}"
   ]
  },
  {
   "cell_type": "code",
   "execution_count": 47,
   "metadata": {},
   "outputs": [],
   "source": [
    "xgb_model = XGBClassifier(**xgb_cv.best_param).fit(X_train, y_train)\n",
    "y_pred_xgb = xgb_model.predict(X_test)\n",
    "proba_xgb = xgb_model.predict_proba(X_test)"
   ]
  },
  {
   "cell_type": "code",
   "execution_count": 48,
   "metadata": {},
   "outputs": [
    {
     "data": {
      "text/plain": [
       "0.8577576379388965"
      ]
     },
     "execution_count": 48,
     "metadata": {},
     "output_type": "execute_result"
    }
   ],
   "source": [
    "accuracy_score(y_test, y_pred_xgb)"
   ]
  },
  {
   "cell_type": "code",
   "execution_count": 49,
   "metadata": {},
   "outputs": [
    {
     "data": {
      "text/plain": [
       "0.8342451929214297"
      ]
     },
     "execution_count": 49,
     "metadata": {},
     "output_type": "execute_result"
    }
   ],
   "source": [
    "cross_val_score(xgb_model, X_test, y_test, cv = 10).mean()"
   ]
  },
  {
   "cell_type": "code",
   "execution_count": 50,
   "metadata": {},
   "outputs": [
    {
     "name": "stdout",
     "output_type": "stream",
     "text": [
      "[[19890  2047]\n",
      " [ 2944 10207]]\n",
      "\n",
      "\n",
      "              precision    recall  f1-score   support\n",
      "\n",
      "           0       0.87      0.91      0.89     21937\n",
      "           1       0.83      0.78      0.80     13151\n",
      "\n",
      "    accuracy                           0.86     35088\n",
      "   macro avg       0.85      0.84      0.85     35088\n",
      "weighted avg       0.86      0.86      0.86     35088\n",
      "\n"
     ]
    }
   ],
   "source": [
    "print(confusion_matrix(y_test, y_pred_xgb))\n",
    "print('\\n')\n",
    "print(classification_report(y_test, y_pred_xgb))"
   ]
  },
  {
   "cell_type": "code",
   "execution_count": 259,
   "metadata": {},
   "outputs": [],
   "source": [
    "def xgb_curve():    \n",
    "    fpr_xgb, tpr_xgb, thres_xgb = roc_curve(y_test, proba_xgb[:,1])\n",
    "    roc_auc_xgb = auc(fpr_xgb, tpr_xgb)\n",
    "\n",
    "    plt.subplot(155)\n",
    "    plt.title('ROC AUC XGB')\n",
    "    plt.plot(fpr_xgb, tpr_xgb, 'blue', label='AUC XGB = {}'.format(round(roc_auc_xgb,4)))\n",
    "    plt.plot([0,1],[0,1], 'r--')\n",
    "    plt.xlim([0,1])\n",
    "    plt.ylim([0,1])\n",
    "    plt.xlabel('False Positive Rate')\n",
    "    plt.ylabel('True Positive Rate')\n",
    "    plt.fill_between(fpr_xgb,tpr_xgb, 0, facecolor='lightgreen', alpha=1)\n",
    "    plt.legend(loc = 'lower right')\n",
    "    plt.show()"
   ]
  },
  {
   "cell_type": "markdown",
   "metadata": {},
   "source": [
    "### Model Score with train data"
   ]
  },
  {
   "cell_type": "code",
   "execution_count": 324,
   "metadata": {},
   "outputs": [
    {
     "data": {
      "text/html": [
       "<div>\n",
       "<style scoped>\n",
       "    .dataframe tbody tr th:only-of-type {\n",
       "        vertical-align: middle;\n",
       "    }\n",
       "\n",
       "    .dataframe tbody tr th {\n",
       "        vertical-align: top;\n",
       "    }\n",
       "\n",
       "    .dataframe thead th {\n",
       "        text-align: right;\n",
       "    }\n",
       "</style>\n",
       "<table border=\"1\" class=\"dataframe\">\n",
       "  <thead>\n",
       "    <tr style=\"text-align: right;\">\n",
       "      <th></th>\n",
       "      <th>MODEL</th>\n",
       "      <th>SCORE</th>\n",
       "    </tr>\n",
       "  </thead>\n",
       "  <tbody>\n",
       "    <tr>\n",
       "      <td>0</td>\n",
       "      <td>Logistic Reg</td>\n",
       "      <td>77.0</td>\n",
       "    </tr>\n",
       "    <tr>\n",
       "      <td>1</td>\n",
       "      <td>Random Forest</td>\n",
       "      <td>94.0</td>\n",
       "    </tr>\n",
       "    <tr>\n",
       "      <td>2</td>\n",
       "      <td>Gradient Boost</td>\n",
       "      <td>99.0</td>\n",
       "    </tr>\n",
       "    <tr>\n",
       "      <td>3</td>\n",
       "      <td>KNN model</td>\n",
       "      <td>84.0</td>\n",
       "    </tr>\n",
       "    <tr>\n",
       "      <td>4</td>\n",
       "      <td>XGB classifier</td>\n",
       "      <td>99.0</td>\n",
       "    </tr>\n",
       "  </tbody>\n",
       "</table>\n",
       "</div>"
      ],
      "text/plain": [
       "            MODEL  SCORE\n",
       "0    Logistic Reg   77.0\n",
       "1   Random Forest   94.0\n",
       "2  Gradient Boost   99.0\n",
       "3       KNN model   84.0\n",
       "4  XGB classifier   99.0"
      ]
     },
     "execution_count": 324,
     "metadata": {},
     "output_type": "execute_result"
    }
   ],
   "source": [
    "scores = []\n",
    "for model in [lr_model, rf_model, gb_model, knn_model, xgb_model]:\n",
    "    scores.append(round(model.score(X_train, y_train)*100))\n",
    "\n",
    "scores_df = pd.DataFrame({'MODEL': ['Logistic Reg', \n",
    "                                    'Random Forest', \n",
    "                                    'Gradient Boost', \n",
    "                                    'KNN model', \n",
    "                                    'XGB classifier'], 'SCORE': scores})\n",
    "scores_df"
   ]
  },
  {
   "cell_type": "markdown",
   "metadata": {},
   "source": [
    "### Model Score with test data"
   ]
  },
  {
   "cell_type": "code",
   "execution_count": 322,
   "metadata": {},
   "outputs": [
    {
     "data": {
      "text/html": [
       "<div>\n",
       "<style scoped>\n",
       "    .dataframe tbody tr th:only-of-type {\n",
       "        vertical-align: middle;\n",
       "    }\n",
       "\n",
       "    .dataframe tbody tr th {\n",
       "        vertical-align: top;\n",
       "    }\n",
       "\n",
       "    .dataframe thead th {\n",
       "        text-align: right;\n",
       "    }\n",
       "</style>\n",
       "<table border=\"1\" class=\"dataframe\">\n",
       "  <thead>\n",
       "    <tr style=\"text-align: right;\">\n",
       "      <th></th>\n",
       "      <th>MODEL</th>\n",
       "      <th>SCORE</th>\n",
       "    </tr>\n",
       "  </thead>\n",
       "  <tbody>\n",
       "    <tr>\n",
       "      <td>0</td>\n",
       "      <td>Logistic Reg</td>\n",
       "      <td>76.0</td>\n",
       "    </tr>\n",
       "    <tr>\n",
       "      <td>1</td>\n",
       "      <td>Random Forest</td>\n",
       "      <td>85.0</td>\n",
       "    </tr>\n",
       "    <tr>\n",
       "      <td>2</td>\n",
       "      <td>Gradient Boost</td>\n",
       "      <td>86.0</td>\n",
       "    </tr>\n",
       "    <tr>\n",
       "      <td>3</td>\n",
       "      <td>KNN model</td>\n",
       "      <td>81.0</td>\n",
       "    </tr>\n",
       "    <tr>\n",
       "      <td>4</td>\n",
       "      <td>XGB classifier</td>\n",
       "      <td>86.0</td>\n",
       "    </tr>\n",
       "  </tbody>\n",
       "</table>\n",
       "</div>"
      ],
      "text/plain": [
       "            MODEL  SCORE\n",
       "0    Logistic Reg   76.0\n",
       "1   Random Forest   85.0\n",
       "2  Gradient Boost   86.0\n",
       "3       KNN model   81.0\n",
       "4  XGB classifier   86.0"
      ]
     },
     "execution_count": 322,
     "metadata": {},
     "output_type": "execute_result"
    }
   ],
   "source": [
    "scores = []\n",
    "for model in [lr_model, rf_model, gb_model, knn_model, xgb_model]:\n",
    "    scores.append(round(model.score(X_test, y_test)*100))\n",
    "\n",
    "scores_df = pd.DataFrame({'MODEL': ['Logistic Reg', \n",
    "                                    'Random Forest', \n",
    "                                    'Gradient Boost', \n",
    "                                    'KNN model', \n",
    "                                    'XGB classifier'], 'SCORE': scores})\n",
    "scores_df"
   ]
  },
  {
   "cell_type": "markdown",
   "metadata": {},
   "source": [
    "## ROC AUC dari Setiap Model"
   ]
  },
  {
   "cell_type": "code",
   "execution_count": 264,
   "metadata": {
    "scrolled": false
   },
   "outputs": [
    {
     "data": {
      "image/png": "[encoded data removed]",
      "text/plain": [
       "<Figure size 1800x720 with 5 Axes>"
      ]
     },
     "metadata": {
      "needs_background": "light"
     },
     "output_type": "display_data"
    }
   ],
   "source": [
    "plt.figure(figsize = (25, 10))\n",
    "lr_curve()\n",
    "rf_curve()\n",
    "gb_curve()\n",
    "knn_curve()\n",
    "xgb_curve()"
   ]
  },
  {
   "cell_type": "markdown",
   "metadata": {},
   "source": [
    "#### Berdasarkan kedua tabel Score diatas , jika dilihat berdasarkan perolehan score dari setiap classifier dengan menggunakan data train. model dengan classifier Gradient Boost dan XGB memiliki score yang sama dimana hampir 100%, dengan score 99%.\n",
    "\n",
    "#### Sedangkan jika melihat score dari setiap model dengan menggunakan data test, model dengan classifier Gradient Boost memiliki score yang paling tinggi.\n",
    "\n",
    "#### Kemudian jika dilihat dari ROC Curve di atas, classifier Gradient Boost memiliki nilai AUC yang paling tinggi.\n",
    "\n",
    "#### Karena berdasarkan EDA target label memiliki proporsi 60:40 , dapat juga menggunakan accuracy score untuk pemilihan model. dimana Gradient Boost dan XGB memiliki score accuracy yang sama (86%), tetapi pada AUC score Gradient Boost memiliki score tertinggi.\n",
    "\n",
    "#### Berdasarkan hal tersebut saya memilih Gradient Boost Classifier sebagai best estimator. "
   ]
  },
  {
   "cell_type": "markdown",
   "metadata": {},
   "source": [
    "## Oversampling Data"
   ]
  },
  {
   "cell_type": "code",
   "execution_count": 174,
   "metadata": {},
   "outputs": [],
   "source": [
    "# Dengan SMOTE\n",
    "\n",
    "sm = SMOTE(random_state = 42)\n",
    "X_sm, y_sm = sm.fit_resample(X_train, y_train)"
   ]
  },
  {
   "cell_type": "code",
   "execution_count": 230,
   "metadata": {},
   "outputs": [],
   "source": [
    "# Dengan Random Oversampling\n",
    "\n",
    "randov = RandomOverSampler(sampling_strategy = 'minority')\n",
    "X_randov, y_randov = randov.fit_resample(X_train, y_train)"
   ]
  },
  {
   "cell_type": "code",
   "execution_count": 177,
   "metadata": {},
   "outputs": [
    {
     "data": {
      "text/html": [
       "<div>\n",
       "<style scoped>\n",
       "    .dataframe tbody tr th:only-of-type {\n",
       "        vertical-align: middle;\n",
       "    }\n",
       "\n",
       "    .dataframe tbody tr th {\n",
       "        vertical-align: top;\n",
       "    }\n",
       "\n",
       "    .dataframe thead th {\n",
       "        text-align: right;\n",
       "    }\n",
       "</style>\n",
       "<table border=\"1\" class=\"dataframe\">\n",
       "  <thead>\n",
       "    <tr style=\"text-align: right;\">\n",
       "      <th></th>\n",
       "      <th>country</th>\n",
       "      <th>deposit_type</th>\n",
       "      <th>lead_time</th>\n",
       "      <th>total_of_special_requests</th>\n",
       "      <th>adr</th>\n",
       "      <th>market_segment</th>\n",
       "      <th>arrival_date_day_of_month</th>\n",
       "      <th>arrival_date_week_number</th>\n",
       "      <th>stays_in_week_nights</th>\n",
       "    </tr>\n",
       "  </thead>\n",
       "  <tbody>\n",
       "    <tr>\n",
       "      <td>0</td>\n",
       "      <td>-0.658228</td>\n",
       "      <td>0.0</td>\n",
       "      <td>0.013986</td>\n",
       "      <td>1.0</td>\n",
       "      <td>0.989091</td>\n",
       "      <td>0.5</td>\n",
       "      <td>0.000000</td>\n",
       "      <td>-0.090909</td>\n",
       "      <td>0.5</td>\n",
       "    </tr>\n",
       "    <tr>\n",
       "      <td>1</td>\n",
       "      <td>0.683544</td>\n",
       "      <td>1.0</td>\n",
       "      <td>0.818182</td>\n",
       "      <td>0.0</td>\n",
       "      <td>0.636364</td>\n",
       "      <td>0.0</td>\n",
       "      <td>-0.066667</td>\n",
       "      <td>-0.090909</td>\n",
       "      <td>0.0</td>\n",
       "    </tr>\n",
       "    <tr>\n",
       "      <td>2</td>\n",
       "      <td>-0.341772</td>\n",
       "      <td>0.0</td>\n",
       "      <td>0.216783</td>\n",
       "      <td>0.0</td>\n",
       "      <td>0.563636</td>\n",
       "      <td>0.5</td>\n",
       "      <td>0.066667</td>\n",
       "      <td>-0.136364</td>\n",
       "      <td>-0.5</td>\n",
       "    </tr>\n",
       "    <tr>\n",
       "      <td>3</td>\n",
       "      <td>0.683544</td>\n",
       "      <td>0.0</td>\n",
       "      <td>0.342657</td>\n",
       "      <td>1.0</td>\n",
       "      <td>-0.172727</td>\n",
       "      <td>0.5</td>\n",
       "      <td>0.733333</td>\n",
       "      <td>0.000000</td>\n",
       "      <td>0.0</td>\n",
       "    </tr>\n",
       "    <tr>\n",
       "      <td>4</td>\n",
       "      <td>-0.481013</td>\n",
       "      <td>0.0</td>\n",
       "      <td>-0.279720</td>\n",
       "      <td>1.0</td>\n",
       "      <td>-0.490909</td>\n",
       "      <td>0.0</td>\n",
       "      <td>-0.333333</td>\n",
       "      <td>-0.772727</td>\n",
       "      <td>0.5</td>\n",
       "    </tr>\n",
       "    <tr>\n",
       "      <td>...</td>\n",
       "      <td>...</td>\n",
       "      <td>...</td>\n",
       "      <td>...</td>\n",
       "      <td>...</td>\n",
       "      <td>...</td>\n",
       "      <td>...</td>\n",
       "      <td>...</td>\n",
       "      <td>...</td>\n",
       "      <td>...</td>\n",
       "    </tr>\n",
       "    <tr>\n",
       "      <td>102137</td>\n",
       "      <td>-0.278481</td>\n",
       "      <td>0.0</td>\n",
       "      <td>0.103995</td>\n",
       "      <td>0.0</td>\n",
       "      <td>0.352150</td>\n",
       "      <td>0.5</td>\n",
       "      <td>0.485353</td>\n",
       "      <td>0.312673</td>\n",
       "      <td>0.0</td>\n",
       "    </tr>\n",
       "    <tr>\n",
       "      <td>102138</td>\n",
       "      <td>-0.004115</td>\n",
       "      <td>0.0</td>\n",
       "      <td>0.863314</td>\n",
       "      <td>1.0</td>\n",
       "      <td>0.643327</td>\n",
       "      <td>0.5</td>\n",
       "      <td>0.536801</td>\n",
       "      <td>-0.092682</td>\n",
       "      <td>-0.5</td>\n",
       "    </tr>\n",
       "    <tr>\n",
       "      <td>102139</td>\n",
       "      <td>-0.471696</td>\n",
       "      <td>0.0</td>\n",
       "      <td>0.882173</td>\n",
       "      <td>0.0</td>\n",
       "      <td>0.477286</td>\n",
       "      <td>0.5</td>\n",
       "      <td>0.007549</td>\n",
       "      <td>0.262433</td>\n",
       "      <td>1.0</td>\n",
       "    </tr>\n",
       "    <tr>\n",
       "      <td>102140</td>\n",
       "      <td>0.683544</td>\n",
       "      <td>1.0</td>\n",
       "      <td>1.664336</td>\n",
       "      <td>0.0</td>\n",
       "      <td>-0.600000</td>\n",
       "      <td>-0.5</td>\n",
       "      <td>-0.266667</td>\n",
       "      <td>-0.318182</td>\n",
       "      <td>0.0</td>\n",
       "    </tr>\n",
       "    <tr>\n",
       "      <td>102141</td>\n",
       "      <td>0.729474</td>\n",
       "      <td>0.0</td>\n",
       "      <td>-0.449637</td>\n",
       "      <td>0.0</td>\n",
       "      <td>-0.206088</td>\n",
       "      <td>0.5</td>\n",
       "      <td>-0.202447</td>\n",
       "      <td>-0.792952</td>\n",
       "      <td>-1.0</td>\n",
       "    </tr>\n",
       "  </tbody>\n",
       "</table>\n",
       "<p>102142 rows × 9 columns</p>\n",
       "</div>"
      ],
      "text/plain": [
       "         country  deposit_type  lead_time  total_of_special_requests  \\\n",
       "0      -0.658228           0.0   0.013986                        1.0   \n",
       "1       0.683544           1.0   0.818182                        0.0   \n",
       "2      -0.341772           0.0   0.216783                        0.0   \n",
       "3       0.683544           0.0   0.342657                        1.0   \n",
       "4      -0.481013           0.0  -0.279720                        1.0   \n",
       "...          ...           ...        ...                        ...   \n",
       "102137 -0.278481           0.0   0.103995                        0.0   \n",
       "102138 -0.004115           0.0   0.863314                        1.0   \n",
       "102139 -0.471696           0.0   0.882173                        0.0   \n",
       "102140  0.683544           1.0   1.664336                        0.0   \n",
       "102141  0.729474           0.0  -0.449637                        0.0   \n",
       "\n",
       "             adr  market_segment  arrival_date_day_of_month  \\\n",
       "0       0.989091             0.5                   0.000000   \n",
       "1       0.636364             0.0                  -0.066667   \n",
       "2       0.563636             0.5                   0.066667   \n",
       "3      -0.172727             0.5                   0.733333   \n",
       "4      -0.490909             0.0                  -0.333333   \n",
       "...          ...             ...                        ...   \n",
       "102137  0.352150             0.5                   0.485353   \n",
       "102138  0.643327             0.5                   0.536801   \n",
       "102139  0.477286             0.5                   0.007549   \n",
       "102140 -0.600000            -0.5                  -0.266667   \n",
       "102141 -0.206088             0.5                  -0.202447   \n",
       "\n",
       "        arrival_date_week_number  stays_in_week_nights  \n",
       "0                      -0.090909                   0.5  \n",
       "1                      -0.090909                   0.0  \n",
       "2                      -0.136364                  -0.5  \n",
       "3                       0.000000                   0.0  \n",
       "4                      -0.772727                   0.5  \n",
       "...                          ...                   ...  \n",
       "102137                  0.312673                   0.0  \n",
       "102138                 -0.092682                  -0.5  \n",
       "102139                  0.262433                   1.0  \n",
       "102140                 -0.318182                   0.0  \n",
       "102141                 -0.792952                  -1.0  \n",
       "\n",
       "[102142 rows x 9 columns]"
      ]
     },
     "execution_count": 177,
     "metadata": {},
     "output_type": "execute_result"
    }
   ],
   "source": [
    "# X_train setelah oversampling dengan SMOTE\n",
    "\n",
    "df_sm = pd.DataFrame(X_sm, columns = X_train.columns)\n",
    "df_sm"
   ]
  },
  {
   "cell_type": "code",
   "execution_count": 196,
   "metadata": {},
   "outputs": [],
   "source": [
    "# y_train setelah oversampling dengan SMOTE\n",
    "\n",
    "y_sm = pd.DataFrame(y_sm)\n",
    "y_sm['is_canceled'] = y_sm[0]"
   ]
  },
  {
   "cell_type": "code",
   "execution_count": 236,
   "metadata": {
    "scrolled": false
   },
   "outputs": [
    {
     "data": {
      "text/html": [
       "<div>\n",
       "<style scoped>\n",
       "    .dataframe tbody tr th:only-of-type {\n",
       "        vertical-align: middle;\n",
       "    }\n",
       "\n",
       "    .dataframe tbody tr th {\n",
       "        vertical-align: top;\n",
       "    }\n",
       "\n",
       "    .dataframe thead th {\n",
       "        text-align: right;\n",
       "    }\n",
       "</style>\n",
       "<table border=\"1\" class=\"dataframe\">\n",
       "  <thead>\n",
       "    <tr style=\"text-align: right;\">\n",
       "      <th></th>\n",
       "      <th>is_canceled</th>\n",
       "    </tr>\n",
       "  </thead>\n",
       "  <tbody>\n",
       "    <tr>\n",
       "      <td>0</td>\n",
       "      <td>0</td>\n",
       "    </tr>\n",
       "    <tr>\n",
       "      <td>1</td>\n",
       "      <td>1</td>\n",
       "    </tr>\n",
       "    <tr>\n",
       "      <td>2</td>\n",
       "      <td>0</td>\n",
       "    </tr>\n",
       "    <tr>\n",
       "      <td>3</td>\n",
       "      <td>0</td>\n",
       "    </tr>\n",
       "    <tr>\n",
       "      <td>4</td>\n",
       "      <td>0</td>\n",
       "    </tr>\n",
       "    <tr>\n",
       "      <td>...</td>\n",
       "      <td>...</td>\n",
       "    </tr>\n",
       "    <tr>\n",
       "      <td>102137</td>\n",
       "      <td>1</td>\n",
       "    </tr>\n",
       "    <tr>\n",
       "      <td>102138</td>\n",
       "      <td>1</td>\n",
       "    </tr>\n",
       "    <tr>\n",
       "      <td>102139</td>\n",
       "      <td>1</td>\n",
       "    </tr>\n",
       "    <tr>\n",
       "      <td>102140</td>\n",
       "      <td>1</td>\n",
       "    </tr>\n",
       "    <tr>\n",
       "      <td>102141</td>\n",
       "      <td>1</td>\n",
       "    </tr>\n",
       "  </tbody>\n",
       "</table>\n",
       "<p>102142 rows × 1 columns</p>\n",
       "</div>"
      ],
      "text/plain": [
       "        is_canceled\n",
       "0                 0\n",
       "1                 1\n",
       "2                 0\n",
       "3                 0\n",
       "4                 0\n",
       "...             ...\n",
       "102137            1\n",
       "102138            1\n",
       "102139            1\n",
       "102140            1\n",
       "102141            1\n",
       "\n",
       "[102142 rows x 1 columns]"
      ]
     },
     "execution_count": 236,
     "metadata": {},
     "output_type": "execute_result"
    }
   ],
   "source": [
    "y_sm"
   ]
  },
  {
   "cell_type": "code",
   "execution_count": 221,
   "metadata": {
    "scrolled": true
   },
   "outputs": [
    {
     "data": {
      "text/html": [
       "<div>\n",
       "<style scoped>\n",
       "    .dataframe tbody tr th:only-of-type {\n",
       "        vertical-align: middle;\n",
       "    }\n",
       "\n",
       "    .dataframe tbody tr th {\n",
       "        vertical-align: top;\n",
       "    }\n",
       "\n",
       "    .dataframe thead th {\n",
       "        text-align: right;\n",
       "    }\n",
       "</style>\n",
       "<table border=\"1\" class=\"dataframe\">\n",
       "  <thead>\n",
       "    <tr style=\"text-align: right;\">\n",
       "      <th></th>\n",
       "      <th>country</th>\n",
       "      <th>deposit_type</th>\n",
       "      <th>lead_time</th>\n",
       "      <th>total_of_special_requests</th>\n",
       "      <th>adr</th>\n",
       "      <th>market_segment</th>\n",
       "      <th>arrival_date_day_of_month</th>\n",
       "      <th>arrival_date_week_number</th>\n",
       "      <th>stays_in_week_nights</th>\n",
       "    </tr>\n",
       "  </thead>\n",
       "  <tbody>\n",
       "    <tr>\n",
       "      <td>0</td>\n",
       "      <td>-0.658228</td>\n",
       "      <td>0.0</td>\n",
       "      <td>0.013986</td>\n",
       "      <td>1.0</td>\n",
       "      <td>0.989091</td>\n",
       "      <td>0.5</td>\n",
       "      <td>0.000000</td>\n",
       "      <td>-0.090909</td>\n",
       "      <td>0.5</td>\n",
       "    </tr>\n",
       "    <tr>\n",
       "      <td>1</td>\n",
       "      <td>0.683544</td>\n",
       "      <td>1.0</td>\n",
       "      <td>0.818182</td>\n",
       "      <td>0.0</td>\n",
       "      <td>0.636364</td>\n",
       "      <td>0.0</td>\n",
       "      <td>-0.066667</td>\n",
       "      <td>-0.090909</td>\n",
       "      <td>0.0</td>\n",
       "    </tr>\n",
       "    <tr>\n",
       "      <td>2</td>\n",
       "      <td>-0.341772</td>\n",
       "      <td>0.0</td>\n",
       "      <td>0.216783</td>\n",
       "      <td>0.0</td>\n",
       "      <td>0.563636</td>\n",
       "      <td>0.5</td>\n",
       "      <td>0.066667</td>\n",
       "      <td>-0.136364</td>\n",
       "      <td>-0.5</td>\n",
       "    </tr>\n",
       "    <tr>\n",
       "      <td>3</td>\n",
       "      <td>0.683544</td>\n",
       "      <td>0.0</td>\n",
       "      <td>0.342657</td>\n",
       "      <td>1.0</td>\n",
       "      <td>-0.172727</td>\n",
       "      <td>0.5</td>\n",
       "      <td>0.733333</td>\n",
       "      <td>0.000000</td>\n",
       "      <td>0.0</td>\n",
       "    </tr>\n",
       "    <tr>\n",
       "      <td>4</td>\n",
       "      <td>-0.481013</td>\n",
       "      <td>0.0</td>\n",
       "      <td>-0.279720</td>\n",
       "      <td>1.0</td>\n",
       "      <td>-0.490909</td>\n",
       "      <td>0.0</td>\n",
       "      <td>-0.333333</td>\n",
       "      <td>-0.772727</td>\n",
       "      <td>0.5</td>\n",
       "    </tr>\n",
       "    <tr>\n",
       "      <td>...</td>\n",
       "      <td>...</td>\n",
       "      <td>...</td>\n",
       "      <td>...</td>\n",
       "      <td>...</td>\n",
       "      <td>...</td>\n",
       "      <td>...</td>\n",
       "      <td>...</td>\n",
       "      <td>...</td>\n",
       "      <td>...</td>\n",
       "    </tr>\n",
       "    <tr>\n",
       "      <td>102137</td>\n",
       "      <td>0.683544</td>\n",
       "      <td>0.0</td>\n",
       "      <td>0.622378</td>\n",
       "      <td>0.0</td>\n",
       "      <td>-0.425455</td>\n",
       "      <td>0.5</td>\n",
       "      <td>0.600000</td>\n",
       "      <td>0.181818</td>\n",
       "      <td>1.5</td>\n",
       "    </tr>\n",
       "    <tr>\n",
       "      <td>102138</td>\n",
       "      <td>0.683544</td>\n",
       "      <td>1.0</td>\n",
       "      <td>-0.258741</td>\n",
       "      <td>0.0</td>\n",
       "      <td>-0.090909</td>\n",
       "      <td>0.0</td>\n",
       "      <td>-0.533333</td>\n",
       "      <td>1.045455</td>\n",
       "      <td>0.0</td>\n",
       "    </tr>\n",
       "    <tr>\n",
       "      <td>102139</td>\n",
       "      <td>0.683544</td>\n",
       "      <td>1.0</td>\n",
       "      <td>1.132867</td>\n",
       "      <td>0.0</td>\n",
       "      <td>0.454545</td>\n",
       "      <td>0.0</td>\n",
       "      <td>0.133333</td>\n",
       "      <td>0.500000</td>\n",
       "      <td>-0.5</td>\n",
       "    </tr>\n",
       "    <tr>\n",
       "      <td>102140</td>\n",
       "      <td>-0.063291</td>\n",
       "      <td>0.0</td>\n",
       "      <td>0.272727</td>\n",
       "      <td>0.0</td>\n",
       "      <td>2.163636</td>\n",
       "      <td>0.5</td>\n",
       "      <td>0.600000</td>\n",
       "      <td>0.318182</td>\n",
       "      <td>0.5</td>\n",
       "    </tr>\n",
       "    <tr>\n",
       "      <td>102141</td>\n",
       "      <td>-0.708861</td>\n",
       "      <td>0.0</td>\n",
       "      <td>-0.069930</td>\n",
       "      <td>0.0</td>\n",
       "      <td>2.175818</td>\n",
       "      <td>0.5</td>\n",
       "      <td>0.800000</td>\n",
       "      <td>-0.227273</td>\n",
       "      <td>-0.5</td>\n",
       "    </tr>\n",
       "  </tbody>\n",
       "</table>\n",
       "<p>102142 rows × 9 columns</p>\n",
       "</div>"
      ],
      "text/plain": [
       "         country  deposit_type  lead_time  total_of_special_requests  \\\n",
       "0      -0.658228           0.0   0.013986                        1.0   \n",
       "1       0.683544           1.0   0.818182                        0.0   \n",
       "2      -0.341772           0.0   0.216783                        0.0   \n",
       "3       0.683544           0.0   0.342657                        1.0   \n",
       "4      -0.481013           0.0  -0.279720                        1.0   \n",
       "...          ...           ...        ...                        ...   \n",
       "102137  0.683544           0.0   0.622378                        0.0   \n",
       "102138  0.683544           1.0  -0.258741                        0.0   \n",
       "102139  0.683544           1.0   1.132867                        0.0   \n",
       "102140 -0.063291           0.0   0.272727                        0.0   \n",
       "102141 -0.708861           0.0  -0.069930                        0.0   \n",
       "\n",
       "             adr  market_segment  arrival_date_day_of_month  \\\n",
       "0       0.989091             0.5                   0.000000   \n",
       "1       0.636364             0.0                  -0.066667   \n",
       "2       0.563636             0.5                   0.066667   \n",
       "3      -0.172727             0.5                   0.733333   \n",
       "4      -0.490909             0.0                  -0.333333   \n",
       "...          ...             ...                        ...   \n",
       "102137 -0.425455             0.5                   0.600000   \n",
       "102138 -0.090909             0.0                  -0.533333   \n",
       "102139  0.454545             0.0                   0.133333   \n",
       "102140  2.163636             0.5                   0.600000   \n",
       "102141  2.175818             0.5                   0.800000   \n",
       "\n",
       "        arrival_date_week_number  stays_in_week_nights  \n",
       "0                      -0.090909                   0.5  \n",
       "1                      -0.090909                   0.0  \n",
       "2                      -0.136364                  -0.5  \n",
       "3                       0.000000                   0.0  \n",
       "4                      -0.772727                   0.5  \n",
       "...                          ...                   ...  \n",
       "102137                  0.181818                   1.5  \n",
       "102138                  1.045455                   0.0  \n",
       "102139                  0.500000                  -0.5  \n",
       "102140                  0.318182                   0.5  \n",
       "102141                 -0.227273                  -0.5  \n",
       "\n",
       "[102142 rows x 9 columns]"
      ]
     },
     "execution_count": 221,
     "metadata": {},
     "output_type": "execute_result"
    }
   ],
   "source": [
    "# X_train setelah oversampling dengan random ovsampling\n",
    "\n",
    "df_randov = pd.DataFrame(X_randov, columns = X_train.columns)\n",
    "df_randov"
   ]
  },
  {
   "cell_type": "code",
   "execution_count": 238,
   "metadata": {},
   "outputs": [],
   "source": [
    "# y_train setelah oversampling dengan random ovsampling\n",
    "\n",
    "y_randov = pd.DataFrame(y_randov)\n",
    "y_randov['is_canceled'] = y_randov[0]"
   ]
  },
  {
   "cell_type": "code",
   "execution_count": 245,
   "metadata": {},
   "outputs": [
    {
     "data": {
      "text/html": [
       "<div>\n",
       "<style scoped>\n",
       "    .dataframe tbody tr th:only-of-type {\n",
       "        vertical-align: middle;\n",
       "    }\n",
       "\n",
       "    .dataframe tbody tr th {\n",
       "        vertical-align: top;\n",
       "    }\n",
       "\n",
       "    .dataframe thead th {\n",
       "        text-align: right;\n",
       "    }\n",
       "</style>\n",
       "<table border=\"1\" class=\"dataframe\">\n",
       "  <thead>\n",
       "    <tr style=\"text-align: right;\">\n",
       "      <th></th>\n",
       "      <th>is_canceled</th>\n",
       "    </tr>\n",
       "  </thead>\n",
       "  <tbody>\n",
       "    <tr>\n",
       "      <td>0</td>\n",
       "      <td>0</td>\n",
       "    </tr>\n",
       "    <tr>\n",
       "      <td>1</td>\n",
       "      <td>1</td>\n",
       "    </tr>\n",
       "    <tr>\n",
       "      <td>2</td>\n",
       "      <td>0</td>\n",
       "    </tr>\n",
       "    <tr>\n",
       "      <td>3</td>\n",
       "      <td>0</td>\n",
       "    </tr>\n",
       "    <tr>\n",
       "      <td>4</td>\n",
       "      <td>0</td>\n",
       "    </tr>\n",
       "    <tr>\n",
       "      <td>...</td>\n",
       "      <td>...</td>\n",
       "    </tr>\n",
       "    <tr>\n",
       "      <td>102137</td>\n",
       "      <td>1</td>\n",
       "    </tr>\n",
       "    <tr>\n",
       "      <td>102138</td>\n",
       "      <td>1</td>\n",
       "    </tr>\n",
       "    <tr>\n",
       "      <td>102139</td>\n",
       "      <td>1</td>\n",
       "    </tr>\n",
       "    <tr>\n",
       "      <td>102140</td>\n",
       "      <td>1</td>\n",
       "    </tr>\n",
       "    <tr>\n",
       "      <td>102141</td>\n",
       "      <td>1</td>\n",
       "    </tr>\n",
       "  </tbody>\n",
       "</table>\n",
       "<p>102142 rows × 1 columns</p>\n",
       "</div>"
      ],
      "text/plain": [
       "        is_canceled\n",
       "0                 0\n",
       "1                 1\n",
       "2                 0\n",
       "3                 0\n",
       "4                 0\n",
       "...             ...\n",
       "102137            1\n",
       "102138            1\n",
       "102139            1\n",
       "102140            1\n",
       "102141            1\n",
       "\n",
       "[102142 rows x 1 columns]"
      ]
     },
     "execution_count": 245,
     "metadata": {},
     "output_type": "execute_result"
    }
   ],
   "source": [
    "y_randov"
   ]
  },
  {
   "cell_type": "code",
   "execution_count": 309,
   "metadata": {},
   "outputs": [],
   "source": [
    "# Buat model Gradient Boost dengan SMOTE\n",
    "\n",
    "gb_model_sm = gb_model.fit(df_sm, y_sm)"
   ]
  },
  {
   "cell_type": "code",
   "execution_count": 310,
   "metadata": {},
   "outputs": [],
   "source": [
    "# Buat model Gradient Boost dengan Random Ovsampling\n",
    "\n",
    "gb_model_rand = gb_model.fit(df_randov, y_randov)"
   ]
  },
  {
   "cell_type": "code",
   "execution_count": 311,
   "metadata": {},
   "outputs": [],
   "source": [
    "# Predict dengan random ovsampling\n",
    "\n",
    "y_pred_rand = gb_model_rand.predict(X_test)\n",
    "proba_rand = gb_model_rand.predict_proba(X_test)"
   ]
  },
  {
   "cell_type": "code",
   "execution_count": 312,
   "metadata": {},
   "outputs": [],
   "source": [
    "# Predict dengan SMOTE\n",
    "\n",
    "y_pred_gbsm = gb_model_sm.predict(X_test)\n",
    "proba_gbsm = gb_model_sm.predict_proba(X_test)"
   ]
  },
  {
   "cell_type": "code",
   "execution_count": 313,
   "metadata": {},
   "outputs": [
    {
     "data": {
      "text/plain": [
       "0.83840604440909"
      ]
     },
     "execution_count": 313,
     "metadata": {},
     "output_type": "execute_result"
    }
   ],
   "source": [
    "# Cross Validation score (SMOTE)\n",
    "\n",
    "cross_val_score(gb_model_sm, X_test, y_test, cv = 10).mean()"
   ]
  },
  {
   "cell_type": "code",
   "execution_count": 314,
   "metadata": {},
   "outputs": [
    {
     "data": {
      "text/plain": [
       "0.8371522721044281"
      ]
     },
     "execution_count": 314,
     "metadata": {},
     "output_type": "execute_result"
    }
   ],
   "source": [
    "# Cross Validation score (Random ovsampling)\n",
    "\n",
    "cross_val_score(gb_model_rand, X_test, y_test, cv = 10).mean()"
   ]
  },
  {
   "cell_type": "code",
   "execution_count": 315,
   "metadata": {},
   "outputs": [
    {
     "data": {
      "text/plain": [
       "0.8371806890190843"
      ]
     },
     "execution_count": 315,
     "metadata": {},
     "output_type": "execute_result"
    }
   ],
   "source": [
    "# Cross Validation score (Data Awal)\n",
    "\n",
    "cross_val_score(gb_model, X_test, y_test, cv = 10).mean()"
   ]
  },
  {
   "cell_type": "code",
   "execution_count": 316,
   "metadata": {},
   "outputs": [
    {
     "name": "stdout",
     "output_type": "stream",
     "text": [
      "              precision    recall  f1-score   support\n",
      "\n",
      "           0       0.88      0.90      0.89     21937\n",
      "           1       0.82      0.80      0.81     13151\n",
      "\n",
      "    accuracy                           0.86     35088\n",
      "   macro avg       0.85      0.85      0.85     35088\n",
      "weighted avg       0.86      0.86      0.86     35088\n",
      "\n",
      "[[19666  2271]\n",
      " [ 2667 10484]]\n"
     ]
    },
    {
     "data": {
      "text/plain": [
       "<matplotlib.axes._subplots.AxesSubplot at 0x18625aa0d88>"
      ]
     },
     "execution_count": 316,
     "metadata": {},
     "output_type": "execute_result"
    },
    {
     "data": {
      "image/png": "[encoded data removed]",
      "text/plain": [
       "<Figure size 432x288 with 2 Axes>"
      ]
     },
     "metadata": {
      "needs_background": "light"
     },
     "output_type": "display_data"
    }
   ],
   "source": [
    "# dengan menggunakan SMOTE\n",
    "\n",
    "print(classification_report(y_test, y_pred_gbsm))\n",
    "print(confusion_matrix(y_test, y_pred_gbsm))\n",
    "confus_gbsm = confusion_matrix(y_test, y_pred_gbsm)\n",
    "sns.heatmap(confus_gbsm, annot = True)"
   ]
  },
  {
   "cell_type": "code",
   "execution_count": 317,
   "metadata": {},
   "outputs": [
    {
     "name": "stdout",
     "output_type": "stream",
     "text": [
      "              precision    recall  f1-score   support\n",
      "\n",
      "           0       0.88      0.90      0.89     21937\n",
      "           1       0.82      0.80      0.81     13151\n",
      "\n",
      "    accuracy                           0.86     35088\n",
      "   macro avg       0.85      0.85      0.85     35088\n",
      "weighted avg       0.86      0.86      0.86     35088\n",
      "\n",
      "[[19666  2271]\n",
      " [ 2667 10484]]\n"
     ]
    },
    {
     "data": {
      "text/plain": [
       "<matplotlib.axes._subplots.AxesSubplot at 0x1864af86488>"
      ]
     },
     "execution_count": 317,
     "metadata": {},
     "output_type": "execute_result"
    },
    {
     "data": {
      "image/png": "[encoded data removed]",
      "text/plain": [
       "<Figure size 432x288 with 2 Axes>"
      ]
     },
     "metadata": {
      "needs_background": "light"
     },
     "output_type": "display_data"
    }
   ],
   "source": [
    "# Dengan menggunakan random oversampling\n",
    "\n",
    "print(classification_report(y_test, y_pred_rand))\n",
    "print(confusion_matrix(y_test, y_pred_rand))\n",
    "confus_rand = confusion_matrix(y_test, y_pred_rand)\n",
    "sns.heatmap(confus_rand, annot = True)"
   ]
  },
  {
   "cell_type": "code",
   "execution_count": 318,
   "metadata": {},
   "outputs": [
    {
     "name": "stdout",
     "output_type": "stream",
     "text": [
      "              precision    recall  f1-score   support\n",
      "\n",
      "           0       0.87      0.91      0.89     21937\n",
      "           1       0.84      0.78      0.81     13151\n",
      "\n",
      "    accuracy                           0.86     35088\n",
      "   macro avg       0.86      0.84      0.85     35088\n",
      "weighted avg       0.86      0.86      0.86     35088\n",
      "\n",
      "[[20042  1895]\n",
      " [ 2955 10196]]\n"
     ]
    },
    {
     "data": {
      "text/plain": [
       "<matplotlib.axes._subplots.AxesSubplot at 0x186219953c8>"
      ]
     },
     "execution_count": 318,
     "metadata": {},
     "output_type": "execute_result"
    },
    {
     "data": {
      "image/png": "[encoded data removed]",
      "text/plain": [
       "<Figure size 432x288 with 2 Axes>"
      ]
     },
     "metadata": {
      "needs_background": "light"
     },
     "output_type": "display_data"
    }
   ],
   "source": [
    "# Data awal tanpa oversampling\n",
    "\n",
    "print(classification_report(y_test, y_pred_gb))\n",
    "print(confusion_matrix(y_test, y_pred_gb))\n",
    "confus_gb = confusion_matrix(y_test, y_pred_gb)\n",
    "sns.heatmap(confus_gb, annot = True)"
   ]
  },
  {
   "cell_type": "code",
   "execution_count": 319,
   "metadata": {},
   "outputs": [
    {
     "data": {
      "text/plain": [
       "<matplotlib.legend.Legend at 0x18621a44848>"
      ]
     },
     "execution_count": 319,
     "metadata": {},
     "output_type": "execute_result"
    },
    {
     "data": {
      "image/png": "[encoded data removed]",
      "text/plain": [
       "<Figure size 1152x720 with 3 Axes>"
      ]
     },
     "metadata": {
      "needs_background": "light"
     },
     "output_type": "display_data"
    }
   ],
   "source": [
    "# Perbandingan ROC AUC Gradient Boost sebelum dan setelah oversampling\n",
    "\n",
    "fpr_gb, tpr_gb, thres_gb = roc_curve(y_test, proba_gb[:,1])\n",
    "roc_auc_gb = auc(fpr_gb, tpr_gb)\n",
    "\n",
    "fpr_gbsm, tpr_gbsm, thres_gbsm = roc_curve(y_test, proba_gbsm[:,1])\n",
    "roc_auc_gbsm = auc(fpr_gbsm, tpr_gbsm)\n",
    "\n",
    "fpr_rand, tpr_rand, thres_rand = roc_curve(y_test, proba_rand[:,1])\n",
    "roc_auc_rand = auc(fpr_rand, tpr_rand)\n",
    "\n",
    "plt.figure(figsize=(16,10))\n",
    "plt.subplot(131)\n",
    "plt.title('ROC AUC Gradient Boosting')\n",
    "plt.plot(fpr_gb, tpr_gb, 'blue', label='AUC Gradient Boosting = {}'.format(round(roc_auc_gb,4)))\n",
    "plt.plot([0,1],[0,1], 'r--')\n",
    "plt.xlim([0,1])\n",
    "plt.ylim([0,1])\n",
    "plt.xlabel('False Positive Rate')\n",
    "plt.ylabel('True Positive Rate')\n",
    "plt.fill_between(fpr_gb,tpr_gb, 0, facecolor='lightblue', alpha=1)\n",
    "plt.legend(loc = 'lower right')\n",
    "\n",
    "plt.subplot(132)\n",
    "plt.title('ROC AUC Gradient Boosting with SMOTE')\n",
    "plt.plot(fpr_gbsm, tpr_gbsm, 'blue', label='AUC Gradient Boosting w/ SMOTE = {}'.format(round(roc_auc_gbsm,4)))\n",
    "plt.plot([0,1],[0,1], 'r--')\n",
    "plt.xlim([0,1])\n",
    "plt.ylim([0,1])\n",
    "plt.xlabel('False Positive Rate')\n",
    "plt.ylabel('True Positive Rate')\n",
    "plt.fill_between(fpr_gbsm,tpr_gbsm, 0, facecolor='lightblue', alpha=1)\n",
    "plt.legend(loc = 'lower right')\n",
    "\n",
    "plt.subplot(133)\n",
    "plt.title('ROC AUC Gradient Boosting with Random Ovsampling')\n",
    "plt.plot(fpr_rand, tpr_rand, 'blue', label='AUC Gradient Boosting w/ rand. ovsampling = {}'.format(round(roc_auc_rand,4)))\n",
    "plt.plot([0,1],[0,1], 'r--')\n",
    "plt.xlim([0,1])\n",
    "plt.ylim([0,1])\n",
    "plt.xlabel('False Positive Rate')\n",
    "plt.ylabel('True Positive Rate')\n",
    "plt.fill_between(fpr_rand,tpr_rand, 0, facecolor='lightblue', alpha=1)\n",
    "plt.legend(loc = 'lower right')"
   ]
  },
  {
   "cell_type": "markdown",
   "metadata": {},
   "source": [
    "#### Model Score Oversampling VS Non-oversampling"
   ]
  },
  {
   "cell_type": "code",
   "execution_count": 353,
   "metadata": {},
   "outputs": [
    {
     "data": {
      "text/html": [
       "<div>\n",
       "<style scoped>\n",
       "    .dataframe tbody tr th:only-of-type {\n",
       "        vertical-align: middle;\n",
       "    }\n",
       "\n",
       "    .dataframe tbody tr th {\n",
       "        vertical-align: top;\n",
       "    }\n",
       "\n",
       "    .dataframe thead th {\n",
       "        text-align: right;\n",
       "    }\n",
       "</style>\n",
       "<table border=\"1\" class=\"dataframe\">\n",
       "  <thead>\n",
       "    <tr style=\"text-align: right;\">\n",
       "      <th></th>\n",
       "      <th>MODEL</th>\n",
       "      <th>SCORE</th>\n",
       "    </tr>\n",
       "  </thead>\n",
       "  <tbody>\n",
       "    <tr>\n",
       "      <td>0</td>\n",
       "      <td>GBoost Normal Data</td>\n",
       "      <td>86.0</td>\n",
       "    </tr>\n",
       "    <tr>\n",
       "      <td>1</td>\n",
       "      <td>GBoost SMOTE</td>\n",
       "      <td>86.0</td>\n",
       "    </tr>\n",
       "    <tr>\n",
       "      <td>2</td>\n",
       "      <td>GBoost Rand. Ovsampling</td>\n",
       "      <td>86.0</td>\n",
       "    </tr>\n",
       "  </tbody>\n",
       "</table>\n",
       "</div>"
      ],
      "text/plain": [
       "                     MODEL  SCORE\n",
       "0       GBoost Normal Data   86.0\n",
       "1             GBoost SMOTE   86.0\n",
       "2  GBoost Rand. Ovsampling   86.0"
      ]
     },
     "execution_count": 353,
     "metadata": {},
     "output_type": "execute_result"
    }
   ],
   "source": [
    "# Score dari Gradient Boosting dengan tdk oversampling dan oversampling\n",
    "\n",
    "scores = []\n",
    "for model in [gb_model, gb_model_sm, gb_model_rand]:\n",
    "    scores.append(round(model.score(X_test, y_test)*100))\n",
    "\n",
    "scores_df = pd.DataFrame({'MODEL': ['GBoost Normal Data', \n",
    "                                    'GBoost SMOTE', \n",
    "                                    'GBoost Rand. Ovsampling'], 'SCORE': scores})\n",
    "scores_df\n",
    "\n",
    "# Score memiliki nilai yg sama"
   ]
  },
  {
   "cell_type": "markdown",
   "metadata": {},
   "source": [
    "##### Precision Score"
   ]
  },
  {
   "cell_type": "code",
   "execution_count": 350,
   "metadata": {},
   "outputs": [
    {
     "data": {
      "text/html": [
       "<div>\n",
       "<style scoped>\n",
       "    .dataframe tbody tr th:only-of-type {\n",
       "        vertical-align: middle;\n",
       "    }\n",
       "\n",
       "    .dataframe tbody tr th {\n",
       "        vertical-align: top;\n",
       "    }\n",
       "\n",
       "    .dataframe thead th {\n",
       "        text-align: right;\n",
       "    }\n",
       "</style>\n",
       "<table border=\"1\" class=\"dataframe\">\n",
       "  <thead>\n",
       "    <tr style=\"text-align: right;\">\n",
       "      <th></th>\n",
       "      <th>MODEL</th>\n",
       "      <th>PRECISION SCORE</th>\n",
       "    </tr>\n",
       "  </thead>\n",
       "  <tbody>\n",
       "    <tr>\n",
       "      <td>0</td>\n",
       "      <td>GBoost Normal Data</td>\n",
       "      <td>84.0</td>\n",
       "    </tr>\n",
       "    <tr>\n",
       "      <td>1</td>\n",
       "      <td>GBoost SMOTE</td>\n",
       "      <td>82.0</td>\n",
       "    </tr>\n",
       "    <tr>\n",
       "      <td>2</td>\n",
       "      <td>GBoost Rand. Ovsampling</td>\n",
       "      <td>82.0</td>\n",
       "    </tr>\n",
       "  </tbody>\n",
       "</table>\n",
       "</div>"
      ],
      "text/plain": [
       "                     MODEL  PRECISION SCORE\n",
       "0       GBoost Normal Data             84.0\n",
       "1             GBoost SMOTE             82.0\n",
       "2  GBoost Rand. Ovsampling             82.0"
      ]
     },
     "execution_count": 350,
     "metadata": {},
     "output_type": "execute_result"
    }
   ],
   "source": [
    "prec_scores = []\n",
    "for pred in [y_pred_gb, y_pred_gbsm, y_pred_rand]:\n",
    "    prec_scores.append(round(precision_score(y_test, pred)*100))\n",
    "\n",
    "prec_scores_df = pd.DataFrame({'MODEL': ['GBoost Normal Data',\n",
    "                                         'GBoost SMOTE', \n",
    "                                         'GBoost Rand. Ovsampling'], 'PRECISION SCORE': prec_scores})\n",
    "prec_scores_df"
   ]
  },
  {
   "cell_type": "markdown",
   "metadata": {},
   "source": [
    "##### Recall Score"
   ]
  },
  {
   "cell_type": "code",
   "execution_count": 349,
   "metadata": {},
   "outputs": [
    {
     "data": {
      "text/html": [
       "<div>\n",
       "<style scoped>\n",
       "    .dataframe tbody tr th:only-of-type {\n",
       "        vertical-align: middle;\n",
       "    }\n",
       "\n",
       "    .dataframe tbody tr th {\n",
       "        vertical-align: top;\n",
       "    }\n",
       "\n",
       "    .dataframe thead th {\n",
       "        text-align: right;\n",
       "    }\n",
       "</style>\n",
       "<table border=\"1\" class=\"dataframe\">\n",
       "  <thead>\n",
       "    <tr style=\"text-align: right;\">\n",
       "      <th></th>\n",
       "      <th>MODEL</th>\n",
       "      <th>RECALL SCORE</th>\n",
       "    </tr>\n",
       "  </thead>\n",
       "  <tbody>\n",
       "    <tr>\n",
       "      <td>0</td>\n",
       "      <td>GBoost Normal Data</td>\n",
       "      <td>78.0</td>\n",
       "    </tr>\n",
       "    <tr>\n",
       "      <td>1</td>\n",
       "      <td>GBoost SMOTE</td>\n",
       "      <td>80.0</td>\n",
       "    </tr>\n",
       "    <tr>\n",
       "      <td>2</td>\n",
       "      <td>GBoost Rand. Ovsampling</td>\n",
       "      <td>80.0</td>\n",
       "    </tr>\n",
       "  </tbody>\n",
       "</table>\n",
       "</div>"
      ],
      "text/plain": [
       "                     MODEL  RECALL SCORE\n",
       "0       GBoost Normal Data          78.0\n",
       "1             GBoost SMOTE          80.0\n",
       "2  GBoost Rand. Ovsampling          80.0"
      ]
     },
     "execution_count": 349,
     "metadata": {},
     "output_type": "execute_result"
    }
   ],
   "source": [
    "rec_scores = []\n",
    "for pred in [y_pred_gb, y_pred_gbsm, y_pred_rand]:\n",
    "    rec_scores.append(round(recall_score(y_test, pred)*100))\n",
    "\n",
    "rec_scores_df = pd.DataFrame({'MODEL': ['GBoost Normal Data', \n",
    "                                        'GBoost SMOTE',\n",
    "                                        'GBoost Rand. Ovsampling'], 'RECALL SCORE': rec_scores})\n",
    "rec_scores_df"
   ]
  },
  {
   "cell_type": "markdown",
   "metadata": {},
   "source": [
    "### Setelah membandingkan ketiga model diatas, antara menggunakan oversampling dengan SMOTE dan Random Oversampling dan tidak oversampling pada training data, kemudian melakukan prediksi dengan test data, didapatkan hasil accuracy score yang sama dari ketiga model tersebut.\n",
    "\n",
    "### Dalam kasus ini, saya lebih fokus kepada pengurangan FP (False Positive), dengan alasan lebih baik fokus terhadap konsumen yang True : 0 , predict : 1 karena dapat mengoptimalkan layanan kepada konsumen yang jelas tidak melakukan cancel. dibandingkan harus fokus mengurangi terhadap konsumen yang True : 1, predict : 0 (False Negatif). Karena kita tidak dapat berbuat banyak apabila konsumen ingin melakukan cancel booking dengan alasan nya sendiri.\n",
    "\n",
    "### Dengan begitu saya memilih model dengan tidak melakukan oversampling, karena memiliki precision score yang lebih tinggi dibandingkan dengan oversampling. Selain itu AUC score pada model dengan tidak melakukan oversampling juga sedikit lebih tinggi dibandingkan dengan oversampling"
   ]
  },
  {
   "cell_type": "markdown",
   "metadata": {},
   "source": [
    "## Deploy Model"
   ]
  },
  {
   "cell_type": "code",
   "execution_count": 355,
   "metadata": {
    "scrolled": true
   },
   "outputs": [
    {
     "data": {
      "text/plain": [
       "['GBModelNormalData']"
      ]
     },
     "execution_count": 355,
     "metadata": {},
     "output_type": "execute_result"
    }
   ],
   "source": [
    "joblib.dump(gb_model, \"GBModelNormalData\")"
   ]
  }
 ],
 "metadata": {
  "kernelspec": {
   "display_name": "Python 3",
   "language": "python",
   "name": "python3"
  },
  "language_info": {
   "codemirror_mode": {
    "name": "ipython",
    "version": 3
   },
   "file_extension": ".py",
   "mimetype": "text/x-python",
   "name": "python",
   "nbconvert_exporter": "python",
   "pygments_lexer": "ipython3",
   "version": "3.7.4"
  }
 },
 "nbformat": 4,
 "nbformat_minor": 2
}
